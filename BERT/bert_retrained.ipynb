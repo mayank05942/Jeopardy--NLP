{
  "nbformat": 4,
  "nbformat_minor": 0,
  "metadata": {
    "colab": {
      "name": "bert_retrained.ipynb",
      "provenance": [],
      "collapsed_sections": [],
      "toc_visible": true
    },
    "kernelspec": {
      "name": "python3",
      "display_name": "Python 3"
    },
    "accelerator": "GPU"
  },
  "cells": [
    {
      "cell_type": "code",
      "metadata": {
        "id": "OaB6fiJGXkNZ"
      },
      "source": [
        "import os\n",
        "import re\n",
        "import torch\n",
        "from tqdm import tqdm\n",
        "import numpy as np\n",
        "import pandas as pd\n",
        "import matplotlib.pyplot as plt\n",
        "device = torch.device('cuda') if torch.cuda.is_available() else torch.device('cpu')\n",
        "import io"
      ],
      "execution_count": null,
      "outputs": []
    },
    {
      "cell_type": "code",
      "metadata": {
        "colab": {
          "base_uri": "https://localhost:8080/",
          "height": 419
        },
        "id": "ZLrnSzAppBh1",
        "outputId": "2ca7da0c-354a-4475-dd37-793122841174"
      },
      "source": [
        "df = pd.read_csv(\"/content/mod_data.csv\")\n",
        "df = df.loc[:, ~df.columns.str.contains('^Unnamed')]\n",
        "df"
      ],
      "execution_count": null,
      "outputs": [
        {
          "output_type": "execute_result",
          "data": {
            "text/html": [
              "<div>\n",
              "<style scoped>\n",
              "    .dataframe tbody tr th:only-of-type {\n",
              "        vertical-align: middle;\n",
              "    }\n",
              "\n",
              "    .dataframe tbody tr th {\n",
              "        vertical-align: top;\n",
              "    }\n",
              "\n",
              "    .dataframe thead th {\n",
              "        text-align: right;\n",
              "    }\n",
              "</style>\n",
              "<table border=\"1\" class=\"dataframe\">\n",
              "  <thead>\n",
              "    <tr style=\"text-align: right;\">\n",
              "      <th></th>\n",
              "      <th>category</th>\n",
              "      <th>value</th>\n",
              "      <th>ques</th>\n",
              "      <th>ans</th>\n",
              "    </tr>\n",
              "  </thead>\n",
              "  <tbody>\n",
              "    <tr>\n",
              "      <th>0</th>\n",
              "      <td>offici state seal</td>\n",
              "      <td>$200</td>\n",
              "      <td>it seal show a map of the state with georgia o...</td>\n",
              "      <td>alabama</td>\n",
              "    </tr>\n",
              "    <tr>\n",
              "      <th>1</th>\n",
              "      <td>up on mount rushmor</td>\n",
              "      <td>$1000</td>\n",
              "      <td>appoint oliv ellsworth chief justic</td>\n",
              "      <td>washington</td>\n",
              "    </tr>\n",
              "    <tr>\n",
              "      <th>2</th>\n",
              "      <td>let the game begin</td>\n",
              "      <td>$1000</td>\n",
              "      <td>a href http www j archiv com medium two thousa...</td>\n",
              "      <td>grace</td>\n",
              "    </tr>\n",
              "    <tr>\n",
              "      <th>3</th>\n",
              "      <td>thoma pain</td>\n",
              "      <td>$200</td>\n",
              "      <td>with letter of introduct from ben franklin tho...</td>\n",
              "      <td>philadelphia</td>\n",
              "    </tr>\n",
              "    <tr>\n",
              "      <th>4</th>\n",
              "      <td>the new testament</td>\n",
              "      <td>$200</td>\n",
              "      <td>chapter six of thi new testament book describ ...</td>\n",
              "      <td>revel</td>\n",
              "    </tr>\n",
              "    <tr>\n",
              "      <th>...</th>\n",
              "      <td>...</td>\n",
              "      <td>...</td>\n",
              "      <td>...</td>\n",
              "      <td>...</td>\n",
              "    </tr>\n",
              "    <tr>\n",
              "      <th>3995</th>\n",
              "      <td>literari movement</td>\n",
              "      <td>$200</td>\n",
              "      <td>thi movement that includ shelley byron wa base...</td>\n",
              "      <td>romantic</td>\n",
              "    </tr>\n",
              "    <tr>\n",
              "      <th>3996</th>\n",
              "      <td>cocoa channel</td>\n",
              "      <td>$200</td>\n",
              "      <td>there are fruiti cocoa varieti of thi cereal p...</td>\n",
              "      <td>pebbl</td>\n",
              "    </tr>\n",
              "    <tr>\n",
              "      <th>3997</th>\n",
              "      <td>travel tourism</td>\n",
              "      <td>$1000</td>\n",
              "      <td>about half of the visitor to thi former portug...</td>\n",
              "      <td>macao</td>\n",
              "    </tr>\n",
              "    <tr>\n",
              "      <th>3998</th>\n",
              "      <td>desert</td>\n",
              "      <td>$200</td>\n",
              "      <td>roald dahl 's augustu gloop get hi just de s e...</td>\n",
              "      <td>chocol</td>\n",
              "    </tr>\n",
              "    <tr>\n",
              "      <th>3999</th>\n",
              "      <td>herb spice</td>\n",
              "      <td>$200</td>\n",
              "      <td>sri lanka is the princip sourc of thi spice th...</td>\n",
              "      <td>cinnamon</td>\n",
              "    </tr>\n",
              "  </tbody>\n",
              "</table>\n",
              "<p>4000 rows × 4 columns</p>\n",
              "</div>"
            ],
            "text/plain": [
              "                 category  ...           ans\n",
              "0       offici state seal  ...       alabama\n",
              "1     up on mount rushmor  ...    washington\n",
              "2      let the game begin  ...         grace\n",
              "3              thoma pain  ...  philadelphia\n",
              "4       the new testament  ...         revel\n",
              "...                   ...  ...           ...\n",
              "3995    literari movement  ...      romantic\n",
              "3996        cocoa channel  ...         pebbl\n",
              "3997       travel tourism  ...         macao\n",
              "3998               desert  ...        chocol\n",
              "3999           herb spice  ...      cinnamon\n",
              "\n",
              "[4000 rows x 4 columns]"
            ]
          },
          "metadata": {
            "tags": []
          },
          "execution_count": 2
        }
      ]
    },
    {
      "cell_type": "code",
      "metadata": {
        "id": "wgHL_MuG0fkE"
      },
      "source": [
        "df['ques'] = df['ques'].str.cat(df['category'],sep=\" \")\n",
        "df['ques'] = df['ques'].str.cat(df['ans'],sep=\" \")\n",
        "del df['category']\n",
        "del df['ans']\n"
      ],
      "execution_count": null,
      "outputs": []
    },
    {
      "cell_type": "code",
      "metadata": {
        "colab": {
          "base_uri": "https://localhost:8080/",
          "height": 419
        },
        "id": "eNngTIYe4gWs",
        "outputId": "6b7b9eb1-7832-4eda-93b9-195562852e9e"
      },
      "source": [
        "df"
      ],
      "execution_count": null,
      "outputs": [
        {
          "output_type": "execute_result",
          "data": {
            "text/html": [
              "<div>\n",
              "<style scoped>\n",
              "    .dataframe tbody tr th:only-of-type {\n",
              "        vertical-align: middle;\n",
              "    }\n",
              "\n",
              "    .dataframe tbody tr th {\n",
              "        vertical-align: top;\n",
              "    }\n",
              "\n",
              "    .dataframe thead th {\n",
              "        text-align: right;\n",
              "    }\n",
              "</style>\n",
              "<table border=\"1\" class=\"dataframe\">\n",
              "  <thead>\n",
              "    <tr style=\"text-align: right;\">\n",
              "      <th></th>\n",
              "      <th>value</th>\n",
              "      <th>ques</th>\n",
              "    </tr>\n",
              "  </thead>\n",
              "  <tbody>\n",
              "    <tr>\n",
              "      <th>0</th>\n",
              "      <td>$200</td>\n",
              "      <td>it seal show a map of the state with georgia o...</td>\n",
              "    </tr>\n",
              "    <tr>\n",
              "      <th>1</th>\n",
              "      <td>$1000</td>\n",
              "      <td>appoint oliv ellsworth chief justic up on moun...</td>\n",
              "    </tr>\n",
              "    <tr>\n",
              "      <th>2</th>\n",
              "      <td>$1000</td>\n",
              "      <td>a href http www j archiv com medium two thousa...</td>\n",
              "    </tr>\n",
              "    <tr>\n",
              "      <th>3</th>\n",
              "      <td>$200</td>\n",
              "      <td>with letter of introduct from ben franklin tho...</td>\n",
              "    </tr>\n",
              "    <tr>\n",
              "      <th>4</th>\n",
              "      <td>$200</td>\n",
              "      <td>chapter six of thi new testament book describ ...</td>\n",
              "    </tr>\n",
              "    <tr>\n",
              "      <th>...</th>\n",
              "      <td>...</td>\n",
              "      <td>...</td>\n",
              "    </tr>\n",
              "    <tr>\n",
              "      <th>3995</th>\n",
              "      <td>$200</td>\n",
              "      <td>thi movement that includ shelley byron wa base...</td>\n",
              "    </tr>\n",
              "    <tr>\n",
              "      <th>3996</th>\n",
              "      <td>$200</td>\n",
              "      <td>there are fruiti cocoa varieti of thi cereal p...</td>\n",
              "    </tr>\n",
              "    <tr>\n",
              "      <th>3997</th>\n",
              "      <td>$1000</td>\n",
              "      <td>about half of the visitor to thi former portug...</td>\n",
              "    </tr>\n",
              "    <tr>\n",
              "      <th>3998</th>\n",
              "      <td>$200</td>\n",
              "      <td>roald dahl 's augustu gloop get hi just de s e...</td>\n",
              "    </tr>\n",
              "    <tr>\n",
              "      <th>3999</th>\n",
              "      <td>$200</td>\n",
              "      <td>sri lanka is the princip sourc of thi spice th...</td>\n",
              "    </tr>\n",
              "  </tbody>\n",
              "</table>\n",
              "<p>4000 rows × 2 columns</p>\n",
              "</div>"
            ],
            "text/plain": [
              "      value                                               ques\n",
              "0      $200  it seal show a map of the state with georgia o...\n",
              "1     $1000  appoint oliv ellsworth chief justic up on moun...\n",
              "2     $1000  a href http www j archiv com medium two thousa...\n",
              "3      $200  with letter of introduct from ben franklin tho...\n",
              "4      $200  chapter six of thi new testament book describ ...\n",
              "...     ...                                                ...\n",
              "3995   $200  thi movement that includ shelley byron wa base...\n",
              "3996   $200  there are fruiti cocoa varieti of thi cereal p...\n",
              "3997  $1000  about half of the visitor to thi former portug...\n",
              "3998   $200  roald dahl 's augustu gloop get hi just de s e...\n",
              "3999   $200  sri lanka is the princip sourc of thi spice th...\n",
              "\n",
              "[4000 rows x 2 columns]"
            ]
          },
          "metadata": {
            "tags": []
          },
          "execution_count": 4
        }
      ]
    },
    {
      "cell_type": "code",
      "metadata": {
        "id": "1c3LaqZ2s5ut"
      },
      "source": [
        "def label_encode(df):\n",
        "    d = {\"$200\": 0,\"$1000\": 1}\n",
        "    \n",
        "    for i in range(len(df)):\n",
        "\n",
        "        if df['value'][i] in d:\n",
        "            df['value'][i] = d[df['value'][i]]\n",
        "        else:\n",
        "            df['value'][i] = 'None'\n",
        "    return df\n",
        "df = label_encode(df)\n",
        "labels = df[\"value\"].astype(str).values"
      ],
      "execution_count": null,
      "outputs": []
    },
    {
      "cell_type": "code",
      "metadata": {
        "colab": {
          "base_uri": "https://localhost:8080/",
          "height": 419
        },
        "id": "ZMbfn56NtCJU",
        "outputId": "1a219721-9b8d-47d4-8211-2cd17658d543"
      },
      "source": [
        "df"
      ],
      "execution_count": null,
      "outputs": [
        {
          "output_type": "execute_result",
          "data": {
            "text/html": [
              "<div>\n",
              "<style scoped>\n",
              "    .dataframe tbody tr th:only-of-type {\n",
              "        vertical-align: middle;\n",
              "    }\n",
              "\n",
              "    .dataframe tbody tr th {\n",
              "        vertical-align: top;\n",
              "    }\n",
              "\n",
              "    .dataframe thead th {\n",
              "        text-align: right;\n",
              "    }\n",
              "</style>\n",
              "<table border=\"1\" class=\"dataframe\">\n",
              "  <thead>\n",
              "    <tr style=\"text-align: right;\">\n",
              "      <th></th>\n",
              "      <th>value</th>\n",
              "      <th>ques</th>\n",
              "    </tr>\n",
              "  </thead>\n",
              "  <tbody>\n",
              "    <tr>\n",
              "      <th>0</th>\n",
              "      <td>0</td>\n",
              "      <td>it seal show a map of the state with georgia o...</td>\n",
              "    </tr>\n",
              "    <tr>\n",
              "      <th>1</th>\n",
              "      <td>1</td>\n",
              "      <td>appoint oliv ellsworth chief justic up on moun...</td>\n",
              "    </tr>\n",
              "    <tr>\n",
              "      <th>2</th>\n",
              "      <td>1</td>\n",
              "      <td>a href http www j archiv com medium two thousa...</td>\n",
              "    </tr>\n",
              "    <tr>\n",
              "      <th>3</th>\n",
              "      <td>0</td>\n",
              "      <td>with letter of introduct from ben franklin tho...</td>\n",
              "    </tr>\n",
              "    <tr>\n",
              "      <th>4</th>\n",
              "      <td>0</td>\n",
              "      <td>chapter six of thi new testament book describ ...</td>\n",
              "    </tr>\n",
              "    <tr>\n",
              "      <th>...</th>\n",
              "      <td>...</td>\n",
              "      <td>...</td>\n",
              "    </tr>\n",
              "    <tr>\n",
              "      <th>3995</th>\n",
              "      <td>0</td>\n",
              "      <td>thi movement that includ shelley byron wa base...</td>\n",
              "    </tr>\n",
              "    <tr>\n",
              "      <th>3996</th>\n",
              "      <td>0</td>\n",
              "      <td>there are fruiti cocoa varieti of thi cereal p...</td>\n",
              "    </tr>\n",
              "    <tr>\n",
              "      <th>3997</th>\n",
              "      <td>1</td>\n",
              "      <td>about half of the visitor to thi former portug...</td>\n",
              "    </tr>\n",
              "    <tr>\n",
              "      <th>3998</th>\n",
              "      <td>0</td>\n",
              "      <td>roald dahl 's augustu gloop get hi just de s e...</td>\n",
              "    </tr>\n",
              "    <tr>\n",
              "      <th>3999</th>\n",
              "      <td>0</td>\n",
              "      <td>sri lanka is the princip sourc of thi spice th...</td>\n",
              "    </tr>\n",
              "  </tbody>\n",
              "</table>\n",
              "<p>4000 rows × 2 columns</p>\n",
              "</div>"
            ],
            "text/plain": [
              "     value                                               ques\n",
              "0        0  it seal show a map of the state with georgia o...\n",
              "1        1  appoint oliv ellsworth chief justic up on moun...\n",
              "2        1  a href http www j archiv com medium two thousa...\n",
              "3        0  with letter of introduct from ben franklin tho...\n",
              "4        0  chapter six of thi new testament book describ ...\n",
              "...    ...                                                ...\n",
              "3995     0  thi movement that includ shelley byron wa base...\n",
              "3996     0  there are fruiti cocoa varieti of thi cereal p...\n",
              "3997     1  about half of the visitor to thi former portug...\n",
              "3998     0  roald dahl 's augustu gloop get hi just de s e...\n",
              "3999     0  sri lanka is the princip sourc of thi spice th...\n",
              "\n",
              "[4000 rows x 2 columns]"
            ]
          },
          "metadata": {
            "tags": []
          },
          "execution_count": 6
        }
      ]
    },
    {
      "cell_type": "code",
      "metadata": {
        "id": "_NTB8ZNKrtFO"
      },
      "source": [
        "from sklearn.model_selection import train_test_split\n",
        "\n",
        "train, test = train_test_split(df, test_size=0.5)\n",
        "train = train.sample(frac=1).reset_index(drop=True)\n",
        "test = test.sample(frac=1).reset_index(drop=True)"
      ],
      "execution_count": null,
      "outputs": []
    },
    {
      "cell_type": "code",
      "metadata": {
        "colab": {
          "base_uri": "https://localhost:8080/",
          "height": 419
        },
        "id": "sqkCW0zBr_dX",
        "outputId": "0112284d-b488-4aaa-8bfa-43c18c3a4210"
      },
      "source": [
        "test"
      ],
      "execution_count": null,
      "outputs": [
        {
          "output_type": "execute_result",
          "data": {
            "text/html": [
              "<div>\n",
              "<style scoped>\n",
              "    .dataframe tbody tr th:only-of-type {\n",
              "        vertical-align: middle;\n",
              "    }\n",
              "\n",
              "    .dataframe tbody tr th {\n",
              "        vertical-align: top;\n",
              "    }\n",
              "\n",
              "    .dataframe thead th {\n",
              "        text-align: right;\n",
              "    }\n",
              "</style>\n",
              "<table border=\"1\" class=\"dataframe\">\n",
              "  <thead>\n",
              "    <tr style=\"text-align: right;\">\n",
              "      <th></th>\n",
              "      <th>value</th>\n",
              "      <th>ques</th>\n",
              "    </tr>\n",
              "  </thead>\n",
              "  <tbody>\n",
              "    <tr>\n",
              "      <th>0</th>\n",
              "      <td>0</td>\n",
              "      <td>in two thousand and six it wa downgrad to a dw...</td>\n",
              "    </tr>\n",
              "    <tr>\n",
              "      <th>1</th>\n",
              "      <td>0</td>\n",
              "      <td>matthew wa a publican mean he collect these th...</td>\n",
              "    </tr>\n",
              "    <tr>\n",
              "      <th>2</th>\n",
              "      <td>0</td>\n",
              "      <td>the finest type of thi liquor are certifi one ...</td>\n",
              "    </tr>\n",
              "    <tr>\n",
              "      <th>3</th>\n",
              "      <td>0</td>\n",
              "      <td>on dec twenty-three two thousand and nine the ...</td>\n",
              "    </tr>\n",
              "    <tr>\n",
              "      <th>4</th>\n",
              "      <td>1</td>\n",
              "      <td>perfect colorado citi for a valuabl opportun c...</td>\n",
              "    </tr>\n",
              "    <tr>\n",
              "      <th>...</th>\n",
              "      <td>...</td>\n",
              "      <td>...</td>\n",
              "    </tr>\n",
              "    <tr>\n",
              "      <th>1995</th>\n",
              "      <td>1</td>\n",
              "      <td>oscar wild windermer 's fan titl contain titl ...</td>\n",
              "    </tr>\n",
              "    <tr>\n",
              "      <th>1996</th>\n",
              "      <td>1</td>\n",
              "      <td>the top letter row of a standard comput keyboa...</td>\n",
              "    </tr>\n",
              "    <tr>\n",
              "      <th>1997</th>\n",
              "      <td>0</td>\n",
              "      <td>ye there realli is a name for the fear of thi ...</td>\n",
              "    </tr>\n",
              "    <tr>\n",
              "      <th>1998</th>\n",
              "      <td>1</td>\n",
              "      <td>the remak had ben stiller the kid movi remak h...</td>\n",
              "    </tr>\n",
              "    <tr>\n",
              "      <th>1999</th>\n",
              "      <td>1</td>\n",
              "      <td>manderley which the second mr de winter dreamt...</td>\n",
              "    </tr>\n",
              "  </tbody>\n",
              "</table>\n",
              "<p>2000 rows × 2 columns</p>\n",
              "</div>"
            ],
            "text/plain": [
              "     value                                               ques\n",
              "0        0  in two thousand and six it wa downgrad to a dw...\n",
              "1        0  matthew wa a publican mean he collect these th...\n",
              "2        0  the finest type of thi liquor are certifi one ...\n",
              "3        0  on dec twenty-three two thousand and nine the ...\n",
              "4        1  perfect colorado citi for a valuabl opportun c...\n",
              "...    ...                                                ...\n",
              "1995     1  oscar wild windermer 's fan titl contain titl ...\n",
              "1996     1  the top letter row of a standard comput keyboa...\n",
              "1997     0  ye there realli is a name for the fear of thi ...\n",
              "1998     1  the remak had ben stiller the kid movi remak h...\n",
              "1999     1  manderley which the second mr de winter dreamt...\n",
              "\n",
              "[2000 rows x 2 columns]"
            ]
          },
          "metadata": {
            "tags": []
          },
          "execution_count": 8
        }
      ]
    },
    {
      "cell_type": "code",
      "metadata": {
        "id": "RfpwSBofX1J9"
      },
      "source": [
        "# Load training data and set labels\n",
        "data = train\n",
        "\n",
        "# Load test data\n",
        "test_data = test\n"
      ],
      "execution_count": null,
      "outputs": []
    },
    {
      "cell_type": "code",
      "metadata": {
        "id": "vjhN0FHVYzHi",
        "colab": {
          "base_uri": "https://localhost:8080/",
          "height": 204
        },
        "outputId": "50540913-2caf-4afd-f75c-1e8b5e82e4ed"
      },
      "source": [
        "data.head()"
      ],
      "execution_count": null,
      "outputs": [
        {
          "output_type": "execute_result",
          "data": {
            "text/html": [
              "<div>\n",
              "<style scoped>\n",
              "    .dataframe tbody tr th:only-of-type {\n",
              "        vertical-align: middle;\n",
              "    }\n",
              "\n",
              "    .dataframe tbody tr th {\n",
              "        vertical-align: top;\n",
              "    }\n",
              "\n",
              "    .dataframe thead th {\n",
              "        text-align: right;\n",
              "    }\n",
              "</style>\n",
              "<table border=\"1\" class=\"dataframe\">\n",
              "  <thead>\n",
              "    <tr style=\"text-align: right;\">\n",
              "      <th></th>\n",
              "      <th>value</th>\n",
              "      <th>ques</th>\n",
              "    </tr>\n",
              "  </thead>\n",
              "  <tbody>\n",
              "    <tr>\n",
              "      <th>0</th>\n",
              "      <td>0</td>\n",
              "      <td>rub shoulder with nebraska state legisl at bil...</td>\n",
              "    </tr>\n",
              "    <tr>\n",
              "      <th>1</th>\n",
              "      <td>1</td>\n",
              "      <td>do n't be the person who toppl the tower that ...</td>\n",
              "    </tr>\n",
              "    <tr>\n",
              "      <th>2</th>\n",
              "      <td>0</td>\n",
              "      <td>when nanci pelosi maxin water go home from the...</td>\n",
              "    </tr>\n",
              "    <tr>\n",
              "      <th>3</th>\n",
              "      <td>0</td>\n",
              "      <td>web address that end with au are locat on host...</td>\n",
              "    </tr>\n",
              "    <tr>\n",
              "      <th>4</th>\n",
              "      <td>1</td>\n",
              "      <td>it 's not a felin it 's not a reptil it 's the...</td>\n",
              "    </tr>\n",
              "  </tbody>\n",
              "</table>\n",
              "</div>"
            ],
            "text/plain": [
              "  value                                               ques\n",
              "0     0  rub shoulder with nebraska state legisl at bil...\n",
              "1     1  do n't be the person who toppl the tower that ...\n",
              "2     0  when nanci pelosi maxin water go home from the...\n",
              "3     0  web address that end with au are locat on host...\n",
              "4     1  it 's not a felin it 's not a reptil it 's the..."
            ]
          },
          "metadata": {
            "tags": []
          },
          "execution_count": 10
        }
      ]
    },
    {
      "cell_type": "code",
      "metadata": {
        "id": "zbrJK__GY6oQ",
        "colab": {
          "base_uri": "https://localhost:8080/"
        },
        "outputId": "eddebc6b-ebde-4e0e-8d8b-4269135b80de"
      },
      "source": [
        "data['value'].value_counts()"
      ],
      "execution_count": null,
      "outputs": [
        {
          "output_type": "execute_result",
          "data": {
            "text/plain": [
              "0    1005\n",
              "1     995\n",
              "Name: value, dtype: int64"
            ]
          },
          "metadata": {
            "tags": []
          },
          "execution_count": 11
        }
      ]
    },
    {
      "cell_type": "code",
      "metadata": {
        "id": "HXoOkUb1ZAC9",
        "colab": {
          "base_uri": "https://localhost:8080/",
          "height": 204
        },
        "outputId": "f66181b3-1237-4a06-bfcd-c79ec0f9552c"
      },
      "source": [
        "test_data.head()"
      ],
      "execution_count": null,
      "outputs": [
        {
          "output_type": "execute_result",
          "data": {
            "text/html": [
              "<div>\n",
              "<style scoped>\n",
              "    .dataframe tbody tr th:only-of-type {\n",
              "        vertical-align: middle;\n",
              "    }\n",
              "\n",
              "    .dataframe tbody tr th {\n",
              "        vertical-align: top;\n",
              "    }\n",
              "\n",
              "    .dataframe thead th {\n",
              "        text-align: right;\n",
              "    }\n",
              "</style>\n",
              "<table border=\"1\" class=\"dataframe\">\n",
              "  <thead>\n",
              "    <tr style=\"text-align: right;\">\n",
              "      <th></th>\n",
              "      <th>value</th>\n",
              "      <th>ques</th>\n",
              "    </tr>\n",
              "  </thead>\n",
              "  <tbody>\n",
              "    <tr>\n",
              "      <th>0</th>\n",
              "      <td>0</td>\n",
              "      <td>in two thousand and six it wa downgrad to a dw...</td>\n",
              "    </tr>\n",
              "    <tr>\n",
              "      <th>1</th>\n",
              "      <td>0</td>\n",
              "      <td>matthew wa a publican mean he collect these th...</td>\n",
              "    </tr>\n",
              "    <tr>\n",
              "      <th>2</th>\n",
              "      <td>0</td>\n",
              "      <td>the finest type of thi liquor are certifi one ...</td>\n",
              "    </tr>\n",
              "    <tr>\n",
              "      <th>3</th>\n",
              "      <td>0</td>\n",
              "      <td>on dec twenty-three two thousand and nine the ...</td>\n",
              "    </tr>\n",
              "    <tr>\n",
              "      <th>4</th>\n",
              "      <td>1</td>\n",
              "      <td>perfect colorado citi for a valuabl opportun c...</td>\n",
              "    </tr>\n",
              "  </tbody>\n",
              "</table>\n",
              "</div>"
            ],
            "text/plain": [
              "  value                                               ques\n",
              "0     0  in two thousand and six it wa downgrad to a dw...\n",
              "1     0  matthew wa a publican mean he collect these th...\n",
              "2     0  the finest type of thi liquor are certifi one ...\n",
              "3     0  on dec twenty-three two thousand and nine the ...\n",
              "4     1  perfect colorado citi for a valuabl opportun c..."
            ]
          },
          "metadata": {
            "tags": []
          },
          "execution_count": 12
        }
      ]
    },
    {
      "cell_type": "markdown",
      "metadata": {
        "id": "FNy6jceip-Pt"
      },
      "source": [
        "We will randomly split the entire training data into two sets: a train set with 90% of the data and a validation set with 10% of the data. We will perform hyperparameter tuning using cross-validation on the train set and use the validation set to compare models"
      ]
    },
    {
      "cell_type": "code",
      "metadata": {
        "id": "s-LGY7IbZOzH"
      },
      "source": [
        "from sklearn.model_selection import train_test_split\n",
        "\n",
        "X_train, X_val, y_train, y_val = train_test_split(data['ques'], data['value'], test_size = 0.2, random_state = 123)"
      ],
      "execution_count": null,
      "outputs": []
    },
    {
      "cell_type": "markdown",
      "metadata": {
        "id": "-llbkTYbrLMh"
      },
      "source": [
        "The transformer library of Hugging Face contains PyTorch implementation of state-of-the-art NLP models including BERT (from Google), GPT (from OpenAI) ... and pre-trained model weights."
      ]
    },
    {
      "cell_type": "code",
      "metadata": {
        "id": "Cdz2LasFZiv-"
      },
      "source": [
        "#!pip install transformers"
      ],
      "execution_count": null,
      "outputs": []
    },
    {
      "cell_type": "markdown",
      "metadata": {
        "id": "yZnWpK-jrSqI"
      },
      "source": [
        "The level of processing here is much less than in previous approachs because BERT was trained with the entire sentences."
      ]
    },
    {
      "cell_type": "code",
      "metadata": {
        "id": "k8sc_PkVbT8F"
      },
      "source": [
        "def text_preprocessing(text):\n",
        "\n",
        "    # Remove '@name'\n",
        "    text = re.sub(r'(@.*?)[\\s]', ' ', text)\n",
        "\n",
        "    # Replace '&amp;' with '&'\n",
        "    text = re.sub(r'&amp;', '&', text)\n",
        "\n",
        "    # Remove trailing whitespace\n",
        "    text = re.sub(r'\\s+', ' ', text).strip()\n",
        "\n",
        "    return text"
      ],
      "execution_count": null,
      "outputs": []
    },
    {
      "cell_type": "markdown",
      "metadata": {
        "id": "vZImsstprmBo"
      },
      "source": [
        "In order to apply the pre-trained BERT, we must use the tokenizer provided by the library. This is because (1) the model has a specific, fixed vocabulary and (2) the BERT tokenizer has a particular way of handling out-of-vocabulary words.\n",
        "\n",
        "In addition, we are required to add special tokens to the start and end of each sentence, pad & truncate all sentences to a single constant length, and explicitly specify what are padding tokens with the \"attention mask\".\n",
        "\n",
        "The encode_plus method of BERT tokenizer will:\n",
        "\n",
        "(1) split our text into tokens,\n",
        "\n",
        "(2) add the special [CLS] and [SEP] tokens, and\n",
        "\n",
        "(3) convert these tokens into indexes of the tokenizer vocabulary,\n",
        "\n",
        "(4) pad or truncate sentences to max length, and\n",
        "\n",
        "(5) create attention mask."
      ]
    },
    {
      "cell_type": "code",
      "metadata": {
        "id": "FaIvWKctZsEF"
      },
      "source": [
        "from transformers import BertTokenizer\n",
        "# Loading the bert tokenizer\n",
        "tokenizer = BertTokenizer.from_pretrained('bert-base-uncased', do_lower_case = True)"
      ],
      "execution_count": null,
      "outputs": []
    },
    {
      "cell_type": "code",
      "metadata": {
        "id": "nkmJchPJZwgw"
      },
      "source": [
        "def bert_preprocessing(data):\n",
        "  # Initialise empty arrays\n",
        "  input_ids = []\n",
        "  attention_masks = []\n",
        "  # Encode_plus with above processing\n",
        "  for sent in data:\n",
        "    #print(sent)\n",
        "    encoded_sent = tokenizer.encode_plus(text = text_preprocessing(sent),add_special_tokens = True,max_length = MAX_LEN,pad_to_max_length = True,return_attention_mask = True,truncation = True)\n",
        "    # put the output into the list above\n",
        "    input_ids.append(encoded_sent.get('input_ids'))\n",
        "    attention_masks.append(encoded_sent.get('attention_mask'))\n",
        "  # Convert list to tensors\n",
        "  input_ids = torch.tensor(input_ids)\n",
        "  attention_masks = torch.tensor(attention_masks)\n",
        "  return input_ids, attention_masks"
      ],
      "execution_count": null,
      "outputs": []
    },
    {
      "cell_type": "markdown",
      "metadata": {
        "id": "PTZUdIi2s0X1"
      },
      "source": [
        "Before tokenizing, we need to specify the maximum length of our sentences."
      ]
    },
    {
      "cell_type": "code",
      "metadata": {
        "id": "o9JTpv9GaPBl",
        "colab": {
          "base_uri": "https://localhost:8080/"
        },
        "outputId": "a0f5180f-e31d-4207-9653-27223a10753e"
      },
      "source": [
        "MAX_LEN = 128\n",
        "print(\"Tokenizing the data\")\n",
        "train_inputs, train_masks = bert_preprocessing(X_train)\n",
        "val_inputs, val_masks = bert_preprocessing(X_val)"
      ],
      "execution_count": null,
      "outputs": [
        {
          "output_type": "stream",
          "text": [
            "Tokenizing the data\n"
          ],
          "name": "stdout"
        },
        {
          "output_type": "stream",
          "text": [
            "/usr/local/lib/python3.7/dist-packages/transformers/tokenization_utils_base.py:2155: FutureWarning: The `pad_to_max_length` argument is deprecated and will be removed in a future version, use `padding=True` or `padding='longest'` to pad to the longest sequence in the batch, or use `padding='max_length'` to pad to a max length. In this case, you can give a specific length with `max_length` (e.g. `max_length=45`) or leave max_length to None to pad to the maximal input size of the model (e.g. 512 for Bert).\n",
            "  FutureWarning,\n"
          ],
          "name": "stderr"
        }
      ]
    },
    {
      "cell_type": "code",
      "metadata": {
        "id": "kUYrKer8tLt0"
      },
      "source": [
        "\n",
        "y_train = y_train.astype(np.int64)\n",
        "y_val = y_val.astype(np.int64)\n"
      ],
      "execution_count": null,
      "outputs": []
    },
    {
      "cell_type": "markdown",
      "metadata": {
        "id": "3KFEZTxVtW3G"
      },
      "source": [
        "## Creating PyTorch DataLoader"
      ]
    },
    {
      "cell_type": "code",
      "metadata": {
        "id": "4Brt-81pcMwS"
      },
      "source": [
        "from torch.utils.data import TensorDataset, DataLoader, RandomSampler, SequentialSampler\n",
        "\n",
        "# Converting other data types to torch tensor\n",
        "train_labels = torch.tensor(y_train.values)\n",
        "val_labels = torch.tensor(y_val.values)\n",
        "batch_size = 16   # recommended batch size = 16 or 32"
      ],
      "execution_count": null,
      "outputs": []
    },
    {
      "cell_type": "markdown",
      "metadata": {
        "id": "oNp6LYZ0tpp-"
      },
      "source": [
        "## Creating DataLoader for Training set"
      ]
    },
    {
      "cell_type": "code",
      "metadata": {
        "id": "nBlgkGlJcPcC"
      },
      "source": [
        "train_data = TensorDataset(train_inputs, train_masks, train_labels)\n",
        "train_sampler = RandomSampler(train_data)\n",
        "train_dataloader = DataLoader(train_data, sampler = train_sampler, batch_size = batch_size)"
      ],
      "execution_count": null,
      "outputs": []
    },
    {
      "cell_type": "markdown",
      "metadata": {
        "id": "-xT-fkaytwRH"
      },
      "source": [
        "## Creating DataLoader for Val set"
      ]
    },
    {
      "cell_type": "code",
      "metadata": {
        "id": "2DPictzLcTCa"
      },
      "source": [
        "val_data = TensorDataset(val_inputs, val_masks, val_labels)\n",
        "val_sampler = RandomSampler(val_data)\n",
        "val_dataloader = DataLoader(val_data, sampler = val_sampler, batch_size = batch_size)"
      ],
      "execution_count": null,
      "outputs": []
    },
    {
      "cell_type": "markdown",
      "metadata": {
        "id": "K5_EI8NTt6s-"
      },
      "source": [
        "## Training the Model"
      ]
    },
    {
      "cell_type": "code",
      "metadata": {
        "id": "wsrdcb5ncV-b"
      },
      "source": [
        "import torch\n",
        "import torch.nn as nn\n",
        "from transformers import BertModel\n",
        "\n",
        "class BertClassifier(nn.Module):\n",
        "\n",
        "  def __init__(self, freeze_bert = False):\n",
        "    super(BertClassifier, self).__init__()\n",
        "\n",
        "    \"\"\" Specify hidden size of BERT,\n",
        "     hidden size of our classifier,\n",
        "      and number of labels \"\"\"\n",
        "\n",
        "    D_in, H, D_out = 768, 50, 3\n",
        "    # Bert layer\n",
        "    self.bert = BertModel.from_pretrained('bert-base-uncased')\n",
        "    # Linear layer with ReLU\n",
        "    self.classifier = nn.Sequential(\n",
        "        nn.Linear(D_in, H),\n",
        "        nn.ReLU(),\n",
        "        nn.Linear(H, D_out)\n",
        "        )\n",
        "    # Freeze BERT MODEL\n",
        "    if freeze_bert:\n",
        "      for param in self.bert.parameters():\n",
        "        param.requires_grad = False\n",
        "\n",
        "  def forward(self, input_ids, attention_mask):\n",
        "    \"\"\" Feed input to BERT and the classifier to compute logits.\n",
        "        It returns logits (torch.Tensor): an output tensor with shape (batch_size,num_labels)\"\"\"\n",
        "    outputs = self.bert(input_ids = input_ids, attention_mask = attention_mask)\n",
        "    first_hidden_state_cls = outputs[0][:, 0, :]\n",
        "    logits = self.classifier(first_hidden_state_cls)\n",
        "    return logits"
      ],
      "execution_count": null,
      "outputs": []
    },
    {
      "cell_type": "markdown",
      "metadata": {
        "id": "qVcqWpGvvVwA"
      },
      "source": [
        "## Optimizer & Learning Rate Scheduler"
      ]
    },
    {
      "cell_type": "markdown",
      "metadata": {
        "id": "X2_8d_VCvcLe"
      },
      "source": [
        "To fine-tune our Bert Classifier, we need to create an optimizer. The authors recommend following hyper-parameters:\n",
        "\n",
        "Batch size: 16 or 32\n",
        "Learning rate (Adam): 5e-5, 3e-5 or 2e-5\n",
        "Number of epochs: 2, 3, 4"
      ]
    },
    {
      "cell_type": "code",
      "metadata": {
        "id": "al1EIGNccv3V"
      },
      "source": [
        "from transformers import AdamW, get_linear_schedule_with_warmup\n",
        "\n",
        "def initialize_model(epochs=4):\n",
        "    \"\"\"Initialize the Bert Classifier, the optimizer and the learning rate scheduler.\n",
        "    \"\"\"\n",
        "    # Instantiate Bert Classifier\n",
        "    bert_classifier = BertClassifier(freeze_bert=False)\n",
        "\n",
        "    # Tell PyTorch to run the model on GPU\n",
        "    bert_classifier.to(device)\n",
        "\n",
        "    # Create the optimizer\n",
        "    optimizer = AdamW(bert_classifier.parameters(),\n",
        "                      lr=2e-5,    # Default learning rate\n",
        "                      eps=1e-8    # Default epsilon value\n",
        "                      )\n",
        "\n",
        "    # Total number of training steps\n",
        "    total_steps = len(train_dataloader) * epochs\n",
        "\n",
        "    # Set up the learning rate scheduler\n",
        "    scheduler = get_linear_schedule_with_warmup(optimizer,\n",
        "                                                num_warmup_steps=0, # Default value\n",
        "                                                num_training_steps=total_steps)\n",
        "    return bert_classifier, optimizer, scheduler"
      ],
      "execution_count": null,
      "outputs": []
    },
    {
      "cell_type": "markdown",
      "metadata": {
        "id": "Vfoiw1fAv8W1"
      },
      "source": [
        "## Training Loop"
      ]
    },
    {
      "cell_type": "markdown",
      "metadata": {
        "id": "B5UFELmHv_t4"
      },
      "source": [
        "We will train our Bert Classifier for 4 epochs. In each epoch, we will train our model and evaluate its performance on the validation set. In more details, we will:\n",
        "\n",
        "Training:\n",
        "\n",
        "Unpack our data from the dataloader and load the data onto the GPU\n",
        "Zero out gradients calculated in the previous pass\n",
        "Perform a forward pass to compute logits and loss\n",
        "Perform a backward pass to compute gradients (loss.backward())\n",
        "Clip the norm of the gradients to 1.0 to prevent \"exploding gradients\"\n",
        "Update the model's parameters (optimizer.step())\n",
        "Update the learning rate (scheduler.step())\n",
        "Evaluation:\n",
        "\n",
        "Unpack our data and load onto the GPU\n",
        "Forward pass\n",
        "Compute loss and accuracy rate over the validation set"
      ]
    },
    {
      "cell_type": "code",
      "metadata": {
        "id": "wZKmuXcTc482"
      },
      "source": [
        "import random\n",
        "import time\n",
        "\n",
        "# Specify loss function\n",
        "loss_fn = nn.CrossEntropyLoss()\n",
        "\n",
        "def set_seed(seed_value=42):\n",
        "    \"\"\"Set seed for reproducibility.\n",
        "    \"\"\"\n",
        "    random.seed(seed_value)\n",
        "    np.random.seed(seed_value)\n",
        "    torch.manual_seed(seed_value)\n",
        "    torch.cuda.manual_seed_all(seed_value)\n",
        "\n",
        "\n",
        "def evaluate(model, val_dataloader):\n",
        "    \"\"\"After the completion of each training epoch, measure the model's performance\n",
        "    on our validation set.\n",
        "    \"\"\"\n",
        "    # Put the model into the evaluation mode. The dropout layers are disabled during\n",
        "    # the test time.\n",
        "    model.eval()\n",
        "\n",
        "    # Tracking variables\n",
        "    val_accuracy = []\n",
        "    val_loss = []\n",
        "\n",
        "    # For each batch in our validation set...\n",
        "    for batch in val_dataloader:\n",
        "        # Load batch to GPU\n",
        "        b_input_ids, b_attn_mask, b_labels = tuple(t.to(device) for t in batch)\n",
        "\n",
        "        # Compute logits\n",
        "        with torch.no_grad():\n",
        "            logits = model(b_input_ids, b_attn_mask)\n",
        "\n",
        "        # Compute loss\n",
        "        loss = loss_fn(logits, b_labels)\n",
        "        val_loss.append(loss.item())\n",
        "\n",
        "        # Get the predictions\n",
        "        preds = torch.argmax(logits, dim=1).flatten()\n",
        "\n",
        "        # Calculate the accuracy rate\n",
        "        accuracy = (preds == b_labels).cpu().numpy().mean() * 100\n",
        "        val_accuracy.append(accuracy)\n",
        "\n",
        "    # Compute the average accuracy and loss over the validation set.\n",
        "    val_loss = np.mean(val_loss)\n",
        "    val_accuracy = np.mean(val_accuracy)\n",
        "\n",
        "    return val_loss, val_accuracy"
      ],
      "execution_count": null,
      "outputs": []
    },
    {
      "cell_type": "code",
      "metadata": {
        "id": "owmMwZ3VdMId"
      },
      "source": [
        "def train(model, train_dataloader, val_dataloader=None, epochs=4, evaluation=False):\n",
        "    \"\"\"Train the BertClassifier model.\n",
        "    \"\"\"\n",
        "    # Start training loop\n",
        "    print(\"Start training...\\n\")\n",
        "    for epoch_i in range(epochs):\n",
        "        # =======================================\n",
        "        #               Training\n",
        "        # =======================================\n",
        "        # Print the header of the result table\n",
        "        print(f\"{'Epoch':^7} | {'Batch':^7} | {'Train Loss':^12} | {'Val Loss':^10} | {'Val Acc':^9} | {'Elapsed':^9}\")\n",
        "        print(\"-\"*70)\n",
        "\n",
        "        # Measure the elapsed time of each epoch\n",
        "        t0_epoch, t0_batch = time.time(), time.time()\n",
        "\n",
        "        # Reset tracking variables at the beginning of each epoch\n",
        "        total_loss, batch_loss, batch_counts = 0, 0, 0\n",
        "\n",
        "        # Put the model into the training mode\n",
        "        model.train()\n",
        "\n",
        "        # For each batch of training data...\n",
        "        for step, batch in enumerate(train_dataloader):\n",
        "            batch_counts +=1\n",
        "            # Load batch to GPU\n",
        "            b_input_ids, b_attn_mask, b_labels = tuple(t.to(device) for t in batch)\n",
        "\n",
        "            # Zero out any previously calculated gradients\n",
        "            model.zero_grad()\n",
        "\n",
        "            # Perform a forward pass. This will return logits.\n",
        "            logits = model(b_input_ids, b_attn_mask)\n",
        "\n",
        "            # Compute loss and accumulate the loss values\n",
        "            loss = loss_fn(logits, b_labels)\n",
        "            batch_loss += loss.item()\n",
        "            total_loss += loss.item()\n",
        "\n",
        "            # Perform a backward pass to calculate gradients\n",
        "            loss.backward()\n",
        "\n",
        "            # Clip the norm of the gradients to 1.0 to prevent \"exploding gradients\"\n",
        "            torch.nn.utils.clip_grad_norm_(model.parameters(), 1.0)\n",
        "\n",
        "            # Update parameters and the learning rate\n",
        "            optimizer.step()\n",
        "            scheduler.step()\n",
        "\n",
        "            # Print the loss values and time elapsed for every 20 batches\n",
        "            if (step % 20 == 0 and step != 0) or (step == len(train_dataloader) - 1):\n",
        "                # Calculate time elapsed for 20 batches\n",
        "                time_elapsed = time.time() - t0_batch\n",
        "\n",
        "                # Print training results\n",
        "                print(f\"{epoch_i + 1:^7} | {step:^7} | {batch_loss / batch_counts:^12.6f} | {'-':^10} | {'-':^9} | {time_elapsed:^9.2f}\")\n",
        "\n",
        "                # Reset batch tracking variables\n",
        "                batch_loss, batch_counts = 0, 0\n",
        "                t0_batch = time.time()\n",
        "\n",
        "        # Calculate the average loss over the entire training data\n",
        "        avg_train_loss = total_loss / len(train_dataloader)\n",
        "\n",
        "        print(\"-\"*70)\n",
        "        # =======================================\n",
        "        #               Evaluation\n",
        "        # =======================================\n",
        "        if evaluation == True:\n",
        "            # After the completion of each training epoch, measure the model's performance\n",
        "            # on our validation set.\n",
        "            val_loss, val_accuracy = evaluate(model, val_dataloader)\n",
        "\n",
        "            # Print performance over the entire training data\n",
        "            time_elapsed = time.time() - t0_epoch\n",
        "            \n",
        "            print(f\"{epoch_i + 1:^7} | {'-':^7} | {avg_train_loss:^12.6f} | {val_loss:^10.6f} | {val_accuracy:^9.2f} | {time_elapsed:^9.2f}\")\n",
        "            print(\"-\"*70)\n",
        "        print(\"\\n\")\n",
        "    \n",
        "    print(\"Training complete!\")"
      ],
      "execution_count": null,
      "outputs": []
    },
    {
      "cell_type": "code",
      "metadata": {
        "id": "prvT-eCtdZ4U",
        "colab": {
          "base_uri": "https://localhost:8080/"
        },
        "outputId": "46eb22b0-d039-4ff9-9acd-0f4ffdb5d497"
      },
      "source": [
        "set_seed(42)\n",
        "bert_classifier, optimizer, scheduler = initialize_model(epochs=8)\n",
        "train(bert_classifier, train_dataloader, val_dataloader, epochs=8, evaluation=True)\n"
      ],
      "execution_count": null,
      "outputs": [
        {
          "output_type": "stream",
          "text": [
            "Start training...\n",
            "\n",
            " Epoch  |  Batch  |  Train Loss  |  Val Loss  |  Val Acc  |  Elapsed \n",
            "----------------------------------------------------------------------\n",
            "   1    |   20    |   0.975078   |     -      |     -     |   4.60   \n",
            "   1    |   40    |   0.757726   |     -      |     -     |   4.36   \n",
            "   1    |   60    |   0.734348   |     -      |     -     |   4.36   \n",
            "   1    |   80    |   0.705319   |     -      |     -     |   4.39   \n",
            "   1    |   99    |   0.718095   |     -      |     -     |   4.15   \n",
            "----------------------------------------------------------------------\n",
            "   1    |    -    |   0.780683   |  0.698377  |   58.25   |   23.44  \n",
            "----------------------------------------------------------------------\n",
            "\n",
            "\n",
            " Epoch  |  Batch  |  Train Loss  |  Val Loss  |  Val Acc  |  Elapsed \n",
            "----------------------------------------------------------------------\n",
            "   2    |   20    |   0.687370   |     -      |     -     |   4.58   \n",
            "   2    |   40    |   0.676298   |     -      |     -     |   4.36   \n",
            "   2    |   60    |   0.681485   |     -      |     -     |   4.36   \n",
            "   2    |   80    |   0.701254   |     -      |     -     |   4.35   \n",
            "   2    |   99    |   0.652358   |     -      |     -     |   4.14   \n",
            "----------------------------------------------------------------------\n",
            "   2    |    -    |   0.680103   |  0.663339  |   61.00   |   23.36  \n",
            "----------------------------------------------------------------------\n",
            "\n",
            "\n",
            " Epoch  |  Batch  |  Train Loss  |  Val Loss  |  Val Acc  |  Elapsed \n",
            "----------------------------------------------------------------------\n",
            "   3    |   20    |   0.569658   |     -      |     -     |   4.60   \n",
            "   3    |   40    |   0.583639   |     -      |     -     |   4.39   \n",
            "   3    |   60    |   0.521413   |     -      |     -     |   4.35   \n",
            "   3    |   80    |   0.513264   |     -      |     -     |   4.37   \n",
            "   3    |   99    |   0.500739   |     -      |     -     |   4.17   \n",
            "----------------------------------------------------------------------\n",
            "   3    |    -    |   0.538432   |  0.790030  |   59.50   |   23.45  \n",
            "----------------------------------------------------------------------\n",
            "\n",
            "\n",
            " Epoch  |  Batch  |  Train Loss  |  Val Loss  |  Val Acc  |  Elapsed \n",
            "----------------------------------------------------------------------\n",
            "   4    |   20    |   0.412614   |     -      |     -     |   4.59   \n",
            "   4    |   40    |   0.317041   |     -      |     -     |   4.36   \n",
            "   4    |   60    |   0.431954   |     -      |     -     |   4.36   \n",
            "   4    |   80    |   0.386328   |     -      |     -     |   4.38   \n",
            "   4    |   99    |   0.303938   |     -      |     -     |   4.14   \n",
            "----------------------------------------------------------------------\n",
            "   4    |    -    |   0.371462   |  0.954589  |   59.25   |   23.41  \n",
            "----------------------------------------------------------------------\n",
            "\n",
            "\n",
            " Epoch  |  Batch  |  Train Loss  |  Val Loss  |  Val Acc  |  Elapsed \n",
            "----------------------------------------------------------------------\n",
            "   5    |   20    |   0.254567   |     -      |     -     |   4.59   \n",
            "   5    |   40    |   0.274425   |     -      |     -     |   4.40   \n",
            "   5    |   60    |   0.199249   |     -      |     -     |   4.36   \n",
            "   5    |   80    |   0.248147   |     -      |     -     |   4.36   \n",
            "   5    |   99    |   0.233564   |     -      |     -     |   4.15   \n",
            "----------------------------------------------------------------------\n",
            "   5    |    -    |   0.242200   |  1.168312  |   59.75   |   23.41  \n",
            "----------------------------------------------------------------------\n",
            "\n",
            "\n",
            " Epoch  |  Batch  |  Train Loss  |  Val Loss  |  Val Acc  |  Elapsed \n",
            "----------------------------------------------------------------------\n",
            "   6    |   20    |   0.160991   |     -      |     -     |   4.58   \n",
            "   6    |   40    |   0.183159   |     -      |     -     |   4.36   \n",
            "   6    |   60    |   0.135491   |     -      |     -     |   4.37   \n",
            "   6    |   80    |   0.183060   |     -      |     -     |   4.34   \n",
            "   6    |   99    |   0.156870   |     -      |     -     |   4.14   \n",
            "----------------------------------------------------------------------\n",
            "   6    |    -    |   0.163955   |  1.248518  |   60.75   |   23.37  \n",
            "----------------------------------------------------------------------\n",
            "\n",
            "\n",
            " Epoch  |  Batch  |  Train Loss  |  Val Loss  |  Val Acc  |  Elapsed \n",
            "----------------------------------------------------------------------\n",
            "   7    |   20    |   0.071221   |     -      |     -     |   4.60   \n",
            "   7    |   40    |   0.120233   |     -      |     -     |   4.34   \n",
            "   7    |   60    |   0.152910   |     -      |     -     |   4.38   \n",
            "   7    |   80    |   0.087859   |     -      |     -     |   4.34   \n",
            "   7    |   99    |   0.127774   |     -      |     -     |   4.12   \n",
            "----------------------------------------------------------------------\n",
            "   7    |    -    |   0.111434   |  1.348348  |   59.50   |   23.35  \n",
            "----------------------------------------------------------------------\n",
            "\n",
            "\n",
            " Epoch  |  Batch  |  Train Loss  |  Val Loss  |  Val Acc  |  Elapsed \n",
            "----------------------------------------------------------------------\n",
            "   8    |   20    |   0.095270   |     -      |     -     |   4.56   \n",
            "   8    |   40    |   0.079640   |     -      |     -     |   4.37   \n",
            "   8    |   60    |   0.090191   |     -      |     -     |   4.33   \n",
            "   8    |   80    |   0.126374   |     -      |     -     |   4.32   \n",
            "   8    |   99    |   0.089136   |     -      |     -     |   4.13   \n",
            "----------------------------------------------------------------------\n",
            "   8    |    -    |   0.096184   |  1.443333  |   60.25   |   23.29  \n",
            "----------------------------------------------------------------------\n",
            "\n",
            "\n",
            "Training complete!\n"
          ],
          "name": "stdout"
        }
      ]
    },
    {
      "cell_type": "markdown",
      "metadata": {
        "id": "ReMTEBTEzqfg"
      },
      "source": [
        "## Evaluation on Validation Set"
      ]
    },
    {
      "cell_type": "markdown",
      "metadata": {
        "id": "RDpi5Db7zzTv"
      },
      "source": [
        "The prediction step is similar to the evaluation step that we did in the training loop, but simpler. We will perform a forward pass to compute logits and apply softmax to calculate probabilities"
      ]
    },
    {
      "cell_type": "code",
      "metadata": {
        "id": "Bi_-GY8AizjA"
      },
      "source": [
        "import torch.nn.functional as F\n",
        "\n",
        "def bert_predict(model, test_dataloader):\n",
        "    \"\"\"Perform a forward pass on the trained BERT model to predict probabilities\n",
        "    on the test set.\n",
        "    \"\"\"\n",
        "    # Put the model into the evaluation mode. The dropout layers are disabled during\n",
        "    # the test time.\n",
        "    model.eval()\n",
        "\n",
        "    all_logits = []\n",
        "\n",
        "    # For each batch in our test set...\n",
        "    for batch in test_dataloader:\n",
        "        # Load batch to GPU\n",
        "        b_input_ids, b_attn_mask = tuple(t.to(device) for t in batch)[:2]\n",
        "\n",
        "        # Compute logits\n",
        "        with torch.no_grad():\n",
        "            logits = model(b_input_ids, b_attn_mask)\n",
        "        all_logits.append(logits)\n",
        "    \n",
        "    # Concatenate logits from each batch\n",
        "    all_logits = torch.cat(all_logits, dim=0)\n",
        "\n",
        "    # Apply softmax to calculate probabilities\n",
        "    probs = F.softmax(all_logits, dim=1).cpu().numpy()\n",
        "\n",
        "    return probs"
      ],
      "execution_count": null,
      "outputs": []
    },
    {
      "cell_type": "code",
      "metadata": {
        "id": "8XyCzAR0kLjc",
        "colab": {
          "base_uri": "https://localhost:8080/"
        },
        "outputId": "aabc2b7e-a351-4db2-a4d4-93338b3f6f61"
      },
      "source": [
        "# Compute predicted probabilities on the test set\n",
        "probs = bert_predict(bert_classifier, val_dataloader)\n",
        "\n",
        "# Evaluate the Bert classifier\n",
        "from sklearn.metrics import accuracy_score, roc_curve, auc\n",
        "# accuracy_score(y_true, y_pred, normalize=False)\n",
        "y_pred = []\n",
        "for items in probs:\n",
        "  y_pred.append(np.argmax(items))\n",
        "accuracy = accuracy_score(y_pred,y_val)\n",
        "print(f'Accuracy: {accuracy*100:.2f}%')\n",
        "\n",
        "  \n"
      ],
      "execution_count": null,
      "outputs": [
        {
          "output_type": "stream",
          "text": [
            "Accuracy: 49.75%\n"
          ],
          "name": "stdout"
        }
      ]
    },
    {
      "cell_type": "markdown",
      "metadata": {
        "id": "AWOO9S-V0TW-"
      },
      "source": [
        "## Train Model on the entire training data"
      ]
    },
    {
      "cell_type": "code",
      "metadata": {
        "id": "nIL82E_NnTbT",
        "colab": {
          "base_uri": "https://localhost:8080/"
        },
        "outputId": "ff1a4893-ec0d-4b31-c56e-a835ea7fcd51"
      },
      "source": [
        "# Concatenate the train set and the validation set\n",
        "\n",
        "\n",
        "full_train_data = torch.utils.data.ConcatDataset([train_data, val_data])\n",
        "full_train_sampler = RandomSampler(full_train_data)\n",
        "full_train_dataloader = DataLoader(full_train_data, sampler=full_train_sampler, batch_size=32)\n",
        "\n",
        "# Train the Bert Classifier on the entire training data\n",
        "\n",
        "set_seed(42) \n",
        "bert_classifier, optimizer, scheduler = initialize_model(epochs=8)\n",
        "train(bert_classifier, full_train_dataloader, epochs=8)"
      ],
      "execution_count": null,
      "outputs": [
        {
          "output_type": "stream",
          "text": [
            "Start training...\n",
            "\n",
            " Epoch  |  Batch  |  Train Loss  |  Val Loss  |  Val Acc  |  Elapsed \n",
            "----------------------------------------------------------------------\n",
            "   1    |   20    |   0.948781   |     -      |     -     |   8.22   \n",
            "   1    |   40    |   0.750142   |     -      |     -     |   7.80   \n",
            "   1    |   60    |   0.727144   |     -      |     -     |   7.80   \n",
            "   1    |   62    |   0.706987   |     -      |     -     |   0.61   \n",
            "----------------------------------------------------------------------\n",
            "\n",
            "\n",
            " Epoch  |  Batch  |  Train Loss  |  Val Loss  |  Val Acc  |  Elapsed \n",
            "----------------------------------------------------------------------\n",
            "   2    |   20    |   0.704959   |     -      |     -     |   8.17   \n",
            "   2    |   40    |   0.675953   |     -      |     -     |   7.80   \n",
            "   2    |   60    |   0.673205   |     -      |     -     |   7.84   \n",
            "   2    |   62    |   0.656136   |     -      |     -     |   0.61   \n",
            "----------------------------------------------------------------------\n",
            "\n",
            "\n",
            " Epoch  |  Batch  |  Train Loss  |  Val Loss  |  Val Acc  |  Elapsed \n",
            "----------------------------------------------------------------------\n",
            "   3    |   20    |   0.594836   |     -      |     -     |   8.18   \n",
            "   3    |   40    |   0.553716   |     -      |     -     |   7.80   \n",
            "   3    |   60    |   0.544570   |     -      |     -     |   7.78   \n",
            "   3    |   62    |   0.449748   |     -      |     -     |   0.61   \n",
            "----------------------------------------------------------------------\n",
            "\n",
            "\n",
            " Epoch  |  Batch  |  Train Loss  |  Val Loss  |  Val Acc  |  Elapsed \n",
            "----------------------------------------------------------------------\n",
            "   4    |   20    |   0.430919   |     -      |     -     |   8.19   \n",
            "   4    |   40    |   0.328083   |     -      |     -     |   7.82   \n",
            "   4    |   60    |   0.379594   |     -      |     -     |   7.81   \n",
            "   4    |   62    |   0.436998   |     -      |     -     |   0.60   \n",
            "----------------------------------------------------------------------\n",
            "\n",
            "\n",
            " Epoch  |  Batch  |  Train Loss  |  Val Loss  |  Val Acc  |  Elapsed \n",
            "----------------------------------------------------------------------\n",
            "   5    |   20    |   0.237284   |     -      |     -     |   8.20   \n",
            "   5    |   40    |   0.298375   |     -      |     -     |   7.79   \n",
            "   5    |   60    |   0.284848   |     -      |     -     |   7.82   \n",
            "   5    |   62    |   0.187562   |     -      |     -     |   0.61   \n",
            "----------------------------------------------------------------------\n",
            "\n",
            "\n",
            " Epoch  |  Batch  |  Train Loss  |  Val Loss  |  Val Acc  |  Elapsed \n",
            "----------------------------------------------------------------------\n",
            "   6    |   20    |   0.188422   |     -      |     -     |   8.20   \n",
            "   6    |   40    |   0.190570   |     -      |     -     |   7.81   \n",
            "   6    |   60    |   0.195320   |     -      |     -     |   7.81   \n",
            "   6    |   62    |   0.219815   |     -      |     -     |   0.60   \n",
            "----------------------------------------------------------------------\n",
            "\n",
            "\n",
            " Epoch  |  Batch  |  Train Loss  |  Val Loss  |  Val Acc  |  Elapsed \n",
            "----------------------------------------------------------------------\n",
            "   7    |   20    |   0.129143   |     -      |     -     |   8.18   \n",
            "   7    |   40    |   0.147535   |     -      |     -     |   7.81   \n",
            "   7    |   60    |   0.131661   |     -      |     -     |   7.79   \n",
            "   7    |   62    |   0.078335   |     -      |     -     |   0.61   \n",
            "----------------------------------------------------------------------\n",
            "\n",
            "\n",
            " Epoch  |  Batch  |  Train Loss  |  Val Loss  |  Val Acc  |  Elapsed \n",
            "----------------------------------------------------------------------\n",
            "   8    |   20    |   0.088524   |     -      |     -     |   8.17   \n",
            "   8    |   40    |   0.098344   |     -      |     -     |   7.79   \n",
            "   8    |   60    |   0.093793   |     -      |     -     |   7.79   \n",
            "   8    |   62    |   0.064972   |     -      |     -     |   0.61   \n",
            "----------------------------------------------------------------------\n",
            "\n",
            "\n",
            "Training complete!\n"
          ],
          "name": "stdout"
        }
      ]
    },
    {
      "cell_type": "markdown",
      "metadata": {
        "id": "UVfcSezn2MN7"
      },
      "source": [
        "##  Predictions on Test Set"
      ]
    },
    {
      "cell_type": "markdown",
      "metadata": {
        "id": "gd9rnGCV2SOm"
      },
      "source": [
        "Before making predictions on the test set, we need to redo processing and encoding steps done on the training data. Fortunately, we have written the preprocessing_for_bert function to do that for us."
      ]
    },
    {
      "cell_type": "code",
      "metadata": {
        "id": "GOHAcxIAiwN2",
        "colab": {
          "base_uri": "https://localhost:8080/"
        },
        "outputId": "e36c828b-462a-460a-8bdf-9ffde3335157"
      },
      "source": [
        "# Preparing the test data\n",
        "# Preprocessing the test data\n",
        "test_inputs, test_masks = bert_preprocessing(test_data.ques)\n",
        "\n",
        "# Create the DataLoader for our test set\n",
        "test_dataset = TensorDataset(test_inputs, test_masks)\n",
        "test_sampler = SequentialSampler(test_dataset)\n",
        "test_dataloader = DataLoader(test_dataset, sampler=test_sampler, batch_size=16)"
      ],
      "execution_count": null,
      "outputs": [
        {
          "output_type": "stream",
          "text": [
            "/usr/local/lib/python3.7/dist-packages/transformers/tokenization_utils_base.py:2155: FutureWarning: The `pad_to_max_length` argument is deprecated and will be removed in a future version, use `padding=True` or `padding='longest'` to pad to the longest sequence in the batch, or use `padding='max_length'` to pad to a max length. In this case, you can give a specific length with `max_length` (e.g. `max_length=45`) or leave max_length to None to pad to the maximal input size of the model (e.g. 512 for Bert).\n",
            "  FutureWarning,\n"
          ],
          "name": "stderr"
        }
      ]
    },
    {
      "cell_type": "code",
      "metadata": {
        "id": "6tL-l9EYlbiy"
      },
      "source": [
        "probs = bert_predict(bert_classifier, test_dataloader)"
      ],
      "execution_count": null,
      "outputs": []
    },
    {
      "cell_type": "code",
      "metadata": {
        "id": "skLp-68VjUkR"
      },
      "source": [
        "# Evaluate the Bert classifier\n",
        "from sklearn.metrics import accuracy_score\n",
        "# accuracy_score(y_true, y_pred, normalize=False)\n",
        "y_pred_test = []\n",
        "for items in probs:\n",
        "  y_pred_test.append(np.argmax(items))\n",
        "y_pred_test = np.array(y_pred_test)\n",
        "y_pred_test = y_pred_test.astype(np.int64)"
      ],
      "execution_count": null,
      "outputs": []
    },
    {
      "cell_type": "code",
      "metadata": {
        "colab": {
          "base_uri": "https://localhost:8080/"
        },
        "id": "V7PAlY_KybM1",
        "outputId": "9974f0a6-3bec-41a8-f225-ab3317e526df"
      },
      "source": [
        "print(type(y_pred_test))\n",
        "test_data.value = test_data.value.astype(np.int64)"
      ],
      "execution_count": null,
      "outputs": [
        {
          "output_type": "stream",
          "text": [
            "<class 'numpy.ndarray'>\n"
          ],
          "name": "stdout"
        }
      ]
    },
    {
      "cell_type": "code",
      "metadata": {
        "colab": {
          "base_uri": "https://localhost:8080/"
        },
        "id": "lM58z7JzyTwv",
        "outputId": "20975f54-9670-42fc-e4ae-049271733024"
      },
      "source": [
        "accuracy = accuracy_score(test_data.value,y_pred_test)\n",
        "print(f'Accuracy: {accuracy*100:.2f}%')"
      ],
      "execution_count": null,
      "outputs": [
        {
          "output_type": "stream",
          "text": [
            "Accuracy: 57.90%\n"
          ],
          "name": "stdout"
        }
      ]
    }
  ]
}